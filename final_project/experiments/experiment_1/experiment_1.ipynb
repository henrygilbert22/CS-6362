{
 "cells": [
  {
   "cell_type": "markdown",
   "metadata": {},
   "source": [
    "# Changing to Parent Directory to Import Needed Libraries"
   ]
  },
  {
   "cell_type": "code",
   "execution_count": 9,
   "metadata": {},
   "outputs": [],
   "source": [
    "import os\n",
    "\n",
    "# Change this relative to your own directory structure\n",
    "PARENT_DIR = '/Users/henrygilbert/GitHub/CS-6362/final_project'\n",
    "os.chdir(PARENT_DIR)"
   ]
  },
  {
   "cell_type": "markdown",
   "metadata": {},
   "source": [
    "# Importing Needed Libraries"
   ]
  },
  {
   "cell_type": "code",
   "execution_count": 10,
   "metadata": {},
   "outputs": [
    {
     "data": {
      "text/plain": [
       "<ActiveRun: >"
      ]
     },
     "execution_count": 10,
     "metadata": {},
     "output_type": "execute_result"
    }
   ],
   "source": [
    "import torch\n",
    "import numpy as np\n",
    "import pandas as pd\n",
    "import importlib\n",
    "import copy\n",
    "from torch.utils.data import DataLoader\n",
    "from matplotlib import pyplot as plt\n",
    "import mlflow\n",
    "\n",
    "import utilities\n",
    "import factor_data_loader\n",
    "import market_data_loader\n",
    "from model import CVAE\n",
    "\n",
    "# optional reload for libraries if needed\n",
    "importlib.reload(utilities)\n",
    "mlflow.set_experiment(\"Experiment 1\")\n",
    "\n",
    "mlflow.end_run()\n",
    "mlflow.start_run()"
   ]
  },
  {
   "cell_type": "markdown",
   "metadata": {},
   "source": [
    "# Loading Data "
   ]
  },
  {
   "cell_type": "code",
   "execution_count": 11,
   "metadata": {},
   "outputs": [
    {
     "name": "stdout",
     "output_type": "stream",
     "text": [
      "Mean: 0.0005577222568962418, Std: 0.011583481180388372\n"
     ]
    },
    {
     "name": "stderr",
     "output_type": "stream",
     "text": [
      "/Users/henrygilbert/GitHub/CS-6362/final_project/market_data_loader.py:66: UserWarning: Converting to Period representation will drop timezone information.\n",
      "  group.index[0].to_period(group_by.value).to_timestamp(): group['close'].to_numpy()\n"
     ]
    },
    {
     "data": {
      "text/plain": [
       "5"
      ]
     },
     "execution_count": 11,
     "metadata": {},
     "output_type": "execute_result"
    }
   ],
   "source": [
    "\n",
    "\n",
    "mdl = market_data_loader.MarketDataLoader()\n",
    "start_ts = pd.Timestamp('2016-01-01')\n",
    "end_ts = pd.Timestamp('2021-02-01')\n",
    "\n",
    "mlflow.log_param(\"start_data_date\", start_ts.strftime(\"%Y-%m-%d\"))\n",
    "mlflow.log_param(\"end_data_date\", end_ts.strftime(\"%Y-%m-%d\"))\n",
    "\n",
    "monthly_eod_prices = mdl.get_eod_price_data_grouped('SPY', start_ts, end_ts, market_data_loader.GroupPeriod.MONTHLY)\n",
    "all_eod_prices = np.concatenate([prices for prices in list(monthly_eod_prices.values())])\n",
    "\n",
    "percent_change = np.diff(all_eod_prices)/all_eod_prices[:-1]\n",
    "std_change = np.std(percent_change)\n",
    "mean_change = np.mean(percent_change)\n",
    "print(f\"Mean: {mean_change}, Std: {std_change}\")\n",
    "mlflow.log_metric(\"percent_change_std\", std_change)\n",
    "mlflow.log_metric(\"percent_change_mean\", mean_change)\n",
    "\n",
    "week_size = 5\n",
    "weekly_data = [percent_change[i:i+week_size] for i in range(0, len(percent_change), week_size)]\n",
    "\n",
    "# only condition on previous week, no external factor\n",
    "weekly_trainng_data = [\n",
    "    (weekly_data[i-1], weekly_data[i]) \n",
    "    for i in range(1, len(weekly_data))\n",
    "    if len(weekly_data[i]) == week_size and len(weekly_data[i-1]) == week_size]\n",
    "\n",
    "month_batch_size = 4\n",
    "monthly_batches = [\n",
    "    weekly_trainng_data[i:i+month_batch_size] \n",
    "    for i in range(0, len(weekly_trainng_data), month_batch_size)]\n",
    "\n",
    "mlflow.log_param(\"monthly_batch_size\", month_batch_size)\n",
    "mlflow.log_param(\"weekly_size\", week_size)\n"
   ]
  },
  {
   "cell_type": "markdown",
   "metadata": {},
   "source": [
    "# Training/Evaluation"
   ]
  },
  {
   "cell_type": "code",
   "execution_count": 12,
   "metadata": {},
   "outputs": [
    {
     "name": "stdout",
     "output_type": "stream",
     "text": [
      "Training on batch 1/64\n",
      "Training on batch 2/64\n",
      "Training on batch 3/64\n",
      "Training on batch 4/64\n",
      "Training on batch 5/64\n",
      "Training on batch 6/64\n",
      "Training on batch 7/64\n",
      "Training on batch 8/64\n",
      "Training on batch 9/64\n",
      "Training on batch 10/64\n",
      "Training on batch 11/64\n",
      "Training on batch 12/64\n",
      "Training on batch 13/64\n",
      "Training on batch 14/64\n",
      "Training on batch 15/64\n",
      "Training on batch 16/64\n",
      "Training on batch 17/64\n",
      "Training on batch 18/64\n",
      "Training on batch 19/64\n",
      "Training on batch 20/64\n",
      "Training on batch 21/64\n",
      "Training on batch 22/64\n",
      "Training on batch 23/64\n",
      "Training on batch 24/64\n",
      "Training on batch 25/64\n",
      "Training on batch 26/64\n",
      "Training on batch 27/64\n",
      "Training on batch 28/64\n",
      "Training on batch 29/64\n",
      "Training on batch 30/64\n",
      "Training on batch 31/64\n",
      "Training on batch 32/64\n",
      "Training on batch 33/64\n",
      "Training on batch 34/64\n",
      "Training on batch 35/64\n",
      "Training on batch 36/64\n",
      "Training on batch 37/64\n",
      "Training on batch 38/64\n",
      "Training on batch 39/64\n",
      "Training on batch 40/64\n",
      "Training on batch 41/64\n",
      "Training on batch 42/64\n",
      "Training on batch 43/64\n",
      "Training on batch 44/64\n",
      "Training on batch 45/64\n",
      "Training on batch 46/64\n",
      "Training on batch 47/64\n",
      "Training on batch 48/64\n",
      "Training on batch 49/64\n",
      "Training on batch 50/64\n",
      "Training on batch 51/64\n",
      "Training on batch 52/64\n",
      "Training on batch 53/64\n",
      "Training on batch 54/64\n",
      "Training on batch 55/64\n",
      "Training on batch 56/64\n",
      "Training on batch 57/64\n",
      "Training on batch 58/64\n",
      "Training on batch 59/64\n",
      "Training on batch 60/64\n",
      "Training on batch 61/64\n",
      "Training on batch 62/64\n",
      "Training on batch 63/64\n",
      "Training on batch 64/64\n"
     ]
    }
   ],
   "source": [
    "batch_size = 4\n",
    "batch_to_rmse = {}\n",
    "mlflow.log_param(\"training_batch_size\", batch_size)\n",
    "\n",
    "for i in range(len(monthly_batches)):\n",
    "    \n",
    "    print(f\"Training on batch {i+1}/{len(monthly_batches)}\")\n",
    "    cvae = CVAE(5, 5).to(utilities.DEVICE)\n",
    "    training_batches = copy.deepcopy(monthly_batches)\n",
    "    test_batch = training_batches.pop(i)\n",
    "    \n",
    "    training_weeks = [week for batch in training_batches for week in batch]\n",
    "    training_data = utilities.ConditionedMarketDataset(training_weeks)\n",
    "    testing_data = utilities.ConditionedMarketDataset(test_batch)\n",
    "   \n",
    "    train_dataset = DataLoader(training_data, batch_size=batch_size, shuffle=True)\n",
    "    testing_dataset = DataLoader(testing_data, batch_size=batch_size, shuffle=True)\n",
    "    \n",
    "    history = utilities.train_model(cvae, train_dataset, testing_dataset, epochs=10)\n",
    "    mlflow.pytorch.log_model(cvae, f\"cvae_{i}\")    \n",
    "    [mlflow.log_metric(f\"validation_loss_{i}\", val_loss) for val_loss in history]\n",
    "    \n",
    "    synthetic_mean_val_returns = []\n",
    "    synthetic_val_returns = []\n",
    "    actual_val_returns = []\n",
    "    num_synthetic_samples = 1000\n",
    "    mlflow.log_param(\"num_synthetic_samples\", num_synthetic_samples)\n",
    "    \n",
    "    for batch in testing_dataset:\n",
    "        \n",
    "        price_batch = batch['price_data']\n",
    "        synthetic_price_batches = [\n",
    "            torch.FloatTensor(np.array([np.random.normal(loc=mean_change, scale=std_change, size=week_size) for _ in price_batch])) \n",
    "            for _ in range(num_synthetic_samples)]\n",
    "        \n",
    "        conditioned_batch = batch['factor_data']\n",
    "        price_batch = price_batch.to(utilities.DEVICE)\n",
    "        \n",
    "        sample_synthetic_returns = [\n",
    "            cvae(synthetic_b.float(), conditioned_batch.float()).detach().numpy() \n",
    "            for synthetic_b in synthetic_price_batches]\n",
    "        mean_synthetic_returns = np.mean(sample_synthetic_returns, axis=0)\n",
    "       \n",
    "        synthetic_val_returns += sample_synthetic_returns\n",
    "        synthetic_mean_val_returns += list(mean_synthetic_returns)\n",
    "        actual_val_returns += list(price_batch.detach().numpy())\n",
    "    \n",
    "    synthetic_mean_val_returns = np.array(synthetic_mean_val_returns).flatten()\n",
    "    actual_val_returns = np.array(actual_val_returns).flatten()\n",
    "    mean_rmse = np.sqrt(np.mean((synthetic_mean_val_returns - actual_val_returns)**2))\n",
    "    std_rmse = np.sqrt(np.mean((np.std(synthetic_mean_val_returns) - np.std(actual_val_returns))**2))\n",
    "    \n",
    "    batch_to_rmse[i] = std_rmse + mean_rmse\n",
    "    mlflow.log_metric(f\"batch_rmse\", batch_to_rmse[i], step=i)\n",
    "    \n",
    "    fig, (ax1, ax2, ax3) = plt.subplots(3, 1, figsize=(10, 10))\n",
    "    ax1.plot(synthetic_mean_val_returns, label=f\"synthetic mean over {num_synthetic_samples} samples\")\n",
    "    ax1.plot(price_batch.detach().numpy().flatten(), label=\"historical realization\")\n",
    "    ax1.legend()\n",
    "    ax1.set_xlabel(\"week number\")\n",
    "    ax1.set_ylabel(\"price in USD\")\n",
    "\n",
    "    ax2.plot(price_batch.detach().numpy().flatten(), label=\"historical realization\", color='red')\n",
    "    [ax2.plot(np.array(synthetic_sample).flatten(), color='blue', alpha=0.01) for synthetic_sample in synthetic_val_returns]\n",
    "    ax2.legend()\n",
    "    ax2.set_xlabel(\"week number\")\n",
    "    ax2.set_ylabel(\"price in USD\")\n",
    "    \n",
    "    synthetic_returrns = np.array(synthetic_val_returns).flatten().flatten()\n",
    "    num_bins = int(len(synthetic_returrns)/100)\n",
    "    bin_size = (np.max(synthetic_val_returns) - np.min(synthetic_val_returns))/num_bins\n",
    "    \n",
    "    synthetic_mean = np.mean(synthetic_returrns)\n",
    "    synthetic_std = np.std(synthetic_returrns)\n",
    "    \n",
    "    historical_mean = np.mean(price_batch.detach().numpy().flatten()) \n",
    "    historical_std = np.std(price_batch.detach().numpy().flatten())\n",
    "    \n",
    "    mlflow.log_metric(f\"batch_synthetic_mean\", synthetic_mean, step=i)\n",
    "    mlflow.log_metric(f\"batch_synthetic_std\", synthetic_std, step=i)\n",
    "    mlflow.log_metric(f\"batch_historical_mean\", historical_mean, step=i)\n",
    "    mlflow.log_metric(f\"batch_historical_std\", historical_std, step=i)\n",
    "    \n",
    "    ax3.hist(synthetic_returrns, bins=num_bins, color='blue', edgecolor='black', label=f\"std: {np.round(synthetic_std, 6)}\")\n",
    "    ax3.axvline(x=synthetic_mean, color='r', label=f'synthetic mean: {np.round(synthetic_mean, 6)}')\n",
    "    ax3.axvline(x=historical_mean, color='#FF00FF', label=f'historical mean: {np.round(historical_mean, 6)}')\n",
    "    ax3.legend()\n",
    "    ax2.set_xlabel(\"Return\")\n",
    "    ax2.set_ylabel(\"Synthetic Frequency\")\n",
    "    \n",
    "    plt.savefig(f\"experiments/experiment_1/graphs/synthetic_data_prediction_batch.png\")\n",
    "    mlflow.log_artifact(f\"experiments/experiment_1/graphs/synthetic_data_prediction_batch.png\", f\"batch_{i}\")\n",
    "    plt.clf()\n",
    "    plt.close()\n",
    "    \n",
    "plt.bar(batch_to_rmse.keys(), batch_to_rmse.values())\n",
    "plt.xlabel(\"Test Batch Number\")\n",
    "plt.ylabel(\"RMSE between averaged synthetic and actual prices\")\n",
    "plt.savefig(f\"experiments/experiment_1/graphs/batch_rmse.png\")\n",
    "mlflow.log_artifact(f\"experiments/experiment_1/graphs/batch_rmse.png\", f\"batch_rmse\")\n",
    "mlflow.log_metric(\"average_rmse\", np.mean(list(batch_to_rmse.values())))\n",
    "plt.clf()\n",
    "plt.close()\n",
    "mlflow.end_run()\n",
    "    \n"
   ]
  }
 ],
 "metadata": {
  "kernelspec": {
   "display_name": "Python 3.10.6 ('cs-6362')",
   "language": "python",
   "name": "python3"
  },
  "language_info": {
   "codemirror_mode": {
    "name": "ipython",
    "version": 3
   },
   "file_extension": ".py",
   "mimetype": "text/x-python",
   "name": "python",
   "nbconvert_exporter": "python",
   "pygments_lexer": "ipython3",
   "version": "3.10.6"
  },
  "orig_nbformat": 4,
  "vscode": {
   "interpreter": {
    "hash": "f7dd7eb3fce35fa0f50760c8f8b3d129dbc0da5e6df1057aa9ef5bcae08959f2"
   }
  }
 },
 "nbformat": 4,
 "nbformat_minor": 2
}
